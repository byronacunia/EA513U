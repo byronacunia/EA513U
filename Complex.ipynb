{
  "nbformat": 4,
  "nbformat_minor": 0,
  "metadata": {
    "colab": {
      "name": "Complex.ipynb",
      "provenance": [],
      "authorship_tag": "ABX9TyM/Qcmijrwe4ov5m+WONvXu",
      "include_colab_link": true
    },
    "kernelspec": {
      "name": "python3",
      "display_name": "Python 3"
    },
    "language_info": {
      "name": "python"
    }
  },
  "cells": [
    {
      "cell_type": "markdown",
      "metadata": {
        "id": "view-in-github",
        "colab_type": "text"
      },
      "source": [
        "<a href=\"https://colab.research.google.com/github/byronacunia/EA513U/blob/main/Complex.ipynb\" target=\"_parent\"><img src=\"https://colab.research.google.com/assets/colab-badge.svg\" alt=\"Open In Colab\"/></a>"
      ]
    },
    {
      "cell_type": "code",
      "metadata": {
        "id": "UwQlVJw4D2wx"
      },
      "source": [
        "import math\n",
        "import cmath"
      ],
      "execution_count": 7,
      "outputs": []
    },
    {
      "cell_type": "code",
      "metadata": {
        "id": "6kg2bXIum8_O"
      },
      "source": [
        "def pol(a,b):\n",
        "  phi_degrees = b\n",
        "  phi=phi_degrees*(math.pi/180)\n",
        "  Zrec=cmath.rect(a, phi)\n",
        "  return Zrec"
      ],
      "execution_count": 24,
      "outputs": []
    },
    {
      "cell_type": "code",
      "metadata": {
        "id": "EiQAI35LsaTm"
      },
      "source": [
        "def forma_polar(irectangular):\n",
        "  phase_em_radianos = cmath.phase(irectangular)\n",
        "  phase_em_graus=phase_em_radianos*180/math.pi\n",
        "  ipolar = cmath.polar(irectangular)\n",
        "  return ipolar[0],phase_em_graus"
      ],
      "execution_count": 36,
      "outputs": []
    },
    {
      "cell_type": "code",
      "metadata": {
        "id": "E9lcPydUEWJ1",
        "colab": {
          "base_uri": "https://localhost:8080/"
        },
        "outputId": "7763aca3-2416-4989-9f50-8450ade84cf0"
      },
      "source": [
        "resultado = pol(4,18)+pol(-6,-75)+pol(5,28)\n",
        "print(\"reresultado em rectangulares= \"+str(resultado.real)+\"+\"+str(resultado.imag)+\"i\")"
      ],
      "execution_count": 37,
      "outputs": [
        {
          "output_type": "stream",
          "text": [
            "reresultado em rectangulares= 6.666049758860124+9.378980749163654i\n"
          ],
          "name": "stdout"
        }
      ]
    },
    {
      "cell_type": "code",
      "metadata": {
        "colab": {
          "base_uri": "https://localhost:8080/"
        },
        "id": "P_CHb29xo8sm",
        "outputId": "6988b155-c191-40a2-d7e4-b18aa4dda01f"
      },
      "source": [
        "modulo, angulo_em_graus = forma_polar(resultado)\n",
        "print(\"reresultado em forma polar= \"+str(modulo)+\",\"+str(angulo_em_graus)+\"graus\")"
      ],
      "execution_count": 39,
      "outputs": [
        {
          "output_type": "stream",
          "text": [
            "reresultado em forma polar= 11.506585039914386,54.59693527281385graus\n"
          ],
          "name": "stdout"
        }
      ]
    }
  ]
}